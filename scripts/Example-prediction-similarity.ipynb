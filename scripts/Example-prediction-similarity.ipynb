{
 "cells": [
  {
   "cell_type": "code",
   "execution_count": 1,
   "id": "f6fc4448",
   "metadata": {},
   "outputs": [],
   "source": [
    "from transformers import AutoTokenizer, AutoModelForSeq2SeqLM\n",
    "import pickle"
   ]
  },
  {
   "cell_type": "markdown",
   "id": "00365e85",
   "metadata": {},
   "source": [
    "Two cases, each one associated with a gold synthesis, gold keyword sequence and the matter"
   ]
  },
  {
   "cell_type": "code",
   "execution_count": 2,
   "id": "6dcab0fc",
   "metadata": {},
   "outputs": [],
   "source": [
    "gold_synth1 = \"il résulte de la combinaison des articles 455 et 783, alinéa 2, du code de procédure civile, dans sa version antérieure au décret n° 2019-1333 du 11 décembre 2019, que sont recevables les conclusions postérieures à l'ordonnance de clôture aux termes desquelles une partie en demande la révocation et qu'il appartient au juge qui en est saisi d'y répondre\"\n",
    "gold_synth2 = \"il résulte de la combinaison des articles l. 7313-13, alinéa 1, du code du travail et 14 de l'accord national interprofessionnel des voyageurs, représentants, placiers du 3 octobre 1975 que, lorsqu'il est jugé que le licenciement prononcé pour faute grave repose en réalité sur une cause réelle et sérieuse, le bénéfice de l'indemnité spéciale de rupture réclamée par le voyageur représentant placier ne peut être subordonné à la condition de renonciation par le salarié à l'indemnité de clientèle dans le délai de trente jours suivant l'expiration du contrat de travail\"\n",
    "gold_kw1 = \"licenciement <t> cause <t> cause réelle et sérieuse <t> cause ne constituant pas une faute grave. <t> voyageur représentant placier (vrp) <t> indemnité spéciale de rupture <t> indemnité de clientèle <t> défaut de renonciation <t> délai de trente jours suivant l'expiration du contrat de travail <t> conditions <t> portée\"\n",
    "gold_kw2 = \"procédure de la mise en état <t> ordonnance de clôture <t> dépôt des conclusions des parties <t> dépôt postérieur à l'ordonnance <t> recevabilité <t> cas <t> conclusions demandant la révocation de l'ordonnance de clôture ou le rejet des débats des conclusions ou productions de dernière heure de l'adversaire\"\n",
    "matter1 = \"contrat de travail, rupture\"\n",
    "matter2 = \"procedure civile\""
   ]
  },
  {
   "cell_type": "markdown",
   "id": "19cd3448",
   "metadata": {},
   "source": [
    "Load the tokeniser and the model"
   ]
  },
  {
   "cell_type": "code",
   "execution_count": 3,
   "id": "458b5d4f",
   "metadata": {},
   "outputs": [],
   "source": [
    "tokeniser = AutoTokenizer.from_pretrained(\"rbawden/CCASS-auto-titrages-base\", use_auth_token=True)\n",
    "model = AutoModelForSeq2SeqLM.from_pretrained(\"rbawden/CCASS-auto-titrages-base\", use_auth_token=True)"
   ]
  },
  {
   "cell_type": "markdown",
   "id": "2461f0f4",
   "metadata": {},
   "source": [
    "Predict a keyword sequence from each of the syntheses"
   ]
  },
  {
   "cell_type": "code",
   "execution_count": 4,
   "id": "289908e3",
   "metadata": {},
   "outputs": [
    {
     "name": "stdout",
     "output_type": "stream",
     "text": [
      "[\"licenciement <t> cause <t> cause réelle et sérieuse <t> défaut <t> procédure de révocation <t> conclusions postérieures à la clôture de l'enquête <t> irrecevabilité <t> cas <t> conclusions postérieures à la révocation de l'ordonnance de clôture \"]\n",
      "['sursis à statuer <t> demande <t> rejet <t> portée ']\n"
     ]
    }
   ],
   "source": [
    "inputs = tokeniser([matter1 + \" <t> \" + gold_synth1], return_tensors='pt')\n",
    "outputs = model.generate(inputs['input_ids'])\n",
    "pred_kw1 = tokeniser.batch_decode(outputs, skip_special_tokens=True, clean_up_tokenisation_spaces=True)\n",
    "\n",
    "inputs = tokeniser([matter2 + \" <t> \" + gold_synth2], return_tensors='pt')\n",
    "outputs = model.generate(inputs['input_ids'])\n",
    "pred_kw2 = tokeniser.batch_decode(outputs, skip_special_tokens=True, clean_up_tokenisation_spaces=True)\n",
    "\n",
    "print(pred_kw1)\n",
    "print(pred_kw2)"
   ]
  },
  {
   "cell_type": "markdown",
   "id": "e5c4a35e",
   "metadata": {},
   "source": [
    "You can specify to return `n` predicted sequences (by taking the `n`-best in the beam)"
   ]
  },
  {
   "cell_type": "code",
   "execution_count": 5,
   "id": "25c8dd21",
   "metadata": {},
   "outputs": [
    {
     "name": "stdout",
     "output_type": "stream",
     "text": [
      "licenciement <t> cause <t> cause réelle et sérieuse <t> défaut <t> effets <t> indemnité <t> charge <t> détermination \n",
      "licenciement <t> cause <t> cause réelle et sérieuse <t> défaut <t> indemnité <t> condition <t> demande postérieures à la clôture de l'instance <t> office du juge \n",
      "licenciement <t> cause <t> cause réelle et sérieuse <t> défaut <t> indemnité <t> condition <t> demande postérieures à la clôture de l'instance <t> irrecevabilité <t> cas \n",
      "---\n",
      "sursis à statuer <t> demande <t> rejet <t> portée \n",
      "sursis à statuer <t> conditions <t> licenciement pour faute grave <t> défaut <t> applications diverses <t> licenciement <t> indemnité spéciale \n",
      "sursis à statuer <t> conditions <t> licenciement pour faute grave <t> défaut <t> applications diverses \n"
     ]
    }
   ],
   "source": [
    "n=3\n",
    "inputs = tokeniser([matter1 + \" <t> \" + gold_synth1], return_tensors='pt')\n",
    "outputs = model.generate(inputs['input_ids'], num_beams=n, num_return_sequences=n)\n",
    "pred_kw1_multiple = tokeniser.batch_decode(outputs, skip_special_tokens=True, clean_up_tokenisation_spaces=True)\n",
    "\n",
    "inputs = tokeniser([matter2 + \" <t> \" + gold_synth2], return_tensors='pt')\n",
    "outputs = model.generate(inputs['input_ids'], num_beams=n, num_return_sequences=n)\n",
    "pred_kw2_multiple = tokeniser.batch_decode(outputs, skip_special_tokens=True, clean_up_tokenisation_spaces=True)\n",
    "\n",
    "for pred in pred_kw1_multiple:\n",
    "    print(pred)\n",
    "print('---')\n",
    "for pred in pred_kw2_multiple:\n",
    "    print(pred)"
   ]
  },
  {
   "cell_type": "markdown",
   "id": "abd6163b",
   "metadata": {},
   "source": [
    "You can now use the predicted keyword sequences (and the gold texts to predict the similarity of the two examples)"
   ]
  },
  {
   "cell_type": "code",
   "execution_count": 6,
   "id": "30decc75",
   "metadata": {},
   "outputs": [],
   "source": [
    "from predict_similarity import *"
   ]
  },
  {
   "cell_type": "markdown",
   "id": "1f1117d9",
   "metadata": {},
   "source": [
    "Prepare the inputs so that they are in list format"
   ]
  },
  {
   "cell_type": "code",
   "execution_count": 7,
   "id": "80594771",
   "metadata": {},
   "outputs": [
    {
     "name": "stdout",
     "output_type": "stream",
     "text": [
      "[['il', 'résulte', 'de', 'la', 'combinaison', 'des', 'articles', '455', 'et', '783,', 'alinéa', '2,', 'du', 'code', 'de', 'procédure', 'civile,', 'dans', 'sa', 'version', 'antérieure', 'au', 'décret', 'n°', '2019-1333', 'du', '11', 'décembre', '2019,', 'que', 'sont', 'recevables', 'les', 'conclusions', 'postérieures', 'à', \"l'ordonnance\", 'de', 'clôture', 'aux', 'termes', 'desquelles', 'une', 'partie', 'en', 'demande', 'la', 'révocation', 'et', \"qu'il\", 'appartient', 'au', 'juge', 'qui', 'en', 'est', 'saisi', \"d'y\", 'répondre']]\n",
      "[['licenciement', 'cause', 'cause réelle et sérieuse', 'cause ne constituant pas une faute grave.', 'voyageur représentant placier (vrp)', 'indemnité spéciale de rupture', 'indemnité de clientèle', 'défaut de renonciation', \"délai de trente jours suivant l'expiration du contrat de travail\", 'conditions', 'portée']]\n",
      "[['licenciement', 'cause', 'cause réelle et sérieuse', 'défaut', 'effets', 'indemnité', 'charge', 'détermination '], ['licenciement', 'cause', 'cause réelle et sérieuse', 'défaut', 'indemnité', 'condition', \"demande postérieures à la clôture de l'instance\", 'office du juge '], ['licenciement', 'cause', 'cause réelle et sérieuse', 'défaut', 'indemnité', 'condition', \"demande postérieures à la clôture de l'instance\", 'irrecevabilité', 'cas ']]\n"
     ]
    }
   ],
   "source": [
    "gold_synth1_list = create_list_from_sommaire(gold_synth1)\n",
    "gold_synth2_list = create_list_from_sommaire(gold_synth2)\n",
    "gold_kw1_list = create_list_from_titrage(gold_kw1)\n",
    "gold_kw2_list = create_list_from_titrage(gold_kw2)\n",
    "pred_kw1_list = create_list_from_titrage('\\t'.join(pred_kw1_multiple))\n",
    "pred_kw2_list = create_list_from_titrage('\\t'.join(pred_kw2_multiple))\n",
    "\n",
    "print(gold_synth1_list)\n",
    "print(gold_kw1_list)\n",
    "print(pred_kw1_list)"
   ]
  },
  {
   "cell_type": "markdown",
   "id": "ef52cbf3",
   "metadata": {},
   "source": [
    "Calculate unsupervised similarity features"
   ]
  },
  {
   "cell_type": "code",
   "execution_count": 8,
   "id": "a2480c93",
   "metadata": {},
   "outputs": [
    {
     "name": "stdout",
     "output_type": "stream",
     "text": [
      "[1.0]\n",
      "[0.0]\n",
      "[0.125]\n"
     ]
    }
   ],
   "source": [
    "synth_scores, gold_kw_scores, pred_kw_scores = calculate_sim_features(gold_titrage1=[gold_kw1_list], gold_titrage2=[gold_kw2_list],\n",
    "                           pred_titrages1=[pred_kw1_list], pred_titrages2=[pred_kw2_list], \n",
    "                           sommaires1=[gold_synth1], sommaires2=[gold_synth2])\n",
    "\n",
    "print(synth_scores)\n",
    "print(gold_kw_scores)\n",
    "print(pred_kw_scores)"
   ]
  },
  {
   "cell_type": "markdown",
   "id": "554c9ebd",
   "metadata": {},
   "source": [
    "Load the trained multilayer perceptron model (be careful to get the appropriate one for the input features you have available)"
   ]
  },
  {
   "cell_type": "code",
   "execution_count": 9,
   "id": "c13bc252",
   "metadata": {},
   "outputs": [
    {
     "name": "stderr",
     "output_type": "stream",
     "text": [
      "/Users/rbawden/miniconda3/envs/py37/lib/python3.7/site-packages/sklearn/base.py:338: UserWarning: Trying to unpickle estimator MLPRegressor from version 1.1.1 when using version 1.0.2. This might lead to breaking code or invalid results. Use at your own risk. For more info please refer to:\n",
      "https://scikit-learn.org/stable/modules/model_persistence.html#security-maintainability-limitations\n",
      "  UserWarning,\n"
     ]
    }
   ],
   "source": [
    "model_path='../models/similarity/edsim.sommaire-gold.titrage-gold.titrage-pred-3.pickle'\n",
    "similarity_predictions = mlp_predict(model_path, synth_scores, gold_kw_scores, pred_kw_scores)"
   ]
  },
  {
   "cell_type": "markdown",
   "id": "763fe495",
   "metadata": {},
   "source": [
    "And now you have your predicted similarity score! Ideally they should be between 0 and 3, but there is nothing to constrain the model to do this, so some scores may be higher or lower."
   ]
  },
  {
   "cell_type": "code",
   "execution_count": 10,
   "id": "a6b61e9d",
   "metadata": {},
   "outputs": [
    {
     "name": "stdout",
     "output_type": "stream",
     "text": [
      "[3.84931488]\n"
     ]
    }
   ],
   "source": [
    "print(similarity_predictions)"
   ]
  },
  {
   "cell_type": "markdown",
   "id": "153ca4e8",
   "metadata": {},
   "source": [
    "If you do not have all input texts, there are other models with fewer features (e.g. if there is no gold keyword sequence)"
   ]
  },
  {
   "cell_type": "code",
   "execution_count": 11,
   "id": "e9dce895",
   "metadata": {},
   "outputs": [
    {
     "name": "stderr",
     "output_type": "stream",
     "text": [
      "/Users/rbawden/miniconda3/envs/py37/lib/python3.7/site-packages/sklearn/base.py:338: UserWarning: Trying to unpickle estimator MLPRegressor from version 1.1.1 when using version 1.0.2. This might lead to breaking code or invalid results. Use at your own risk. For more info please refer to:\n",
      "https://scikit-learn.org/stable/modules/model_persistence.html#security-maintainability-limitations\n",
      "  UserWarning,\n"
     ]
    }
   ],
   "source": [
    "model_path='../models/similarity/edsim.sommaire-gold.titrage-pred-3.pickle'\n",
    "similarity_predictions = mlp_predict(model_path, synth_scores, None, pred_kw_scores)"
   ]
  },
  {
   "cell_type": "code",
   "execution_count": 12,
   "id": "49bab6a1",
   "metadata": {},
   "outputs": [
    {
     "name": "stdout",
     "output_type": "stream",
     "text": [
      "[3.05540247]\n"
     ]
    }
   ],
   "source": [
    "print(similarity_predictions)"
   ]
  }
 ],
 "metadata": {
  "kernelspec": {
   "display_name": "Python 3 (ipykernel)",
   "language": "python",
   "name": "python3"
  },
  "language_info": {
   "codemirror_mode": {
    "name": "ipython",
    "version": 3
   },
   "file_extension": ".py",
   "mimetype": "text/x-python",
   "name": "python",
   "nbconvert_exporter": "python",
   "pygments_lexer": "ipython3",
   "version": "3.7.11"
  }
 },
 "nbformat": 4,
 "nbformat_minor": 5
}
